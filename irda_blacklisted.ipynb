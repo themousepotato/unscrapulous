{
 "cells": [
  {
   "cell_type": "code",
   "execution_count": 1,
   "metadata": {
    "id": "IVuO8aB5x1xV"
   },
   "outputs": [],
   "source": [
    "import requests\n",
    "import IPython\n",
    "from google.colab import output\n"
   ]
  },
  {
   "cell_type": "code",
   "execution_count": 25,
   "metadata": {
    "id": "ihvj3lhV1OpV"
   },
   "outputs": [],
   "source": [
    "data = {\n",
    "  '__EVENTTARGET': '',\n",
    "  '__EVENTARGUMENT': '',\n",
    "  '__VIEWSTATE': '/wEPDwUJNjA0NDA3MjkxD2QWAmYPZBYCAgcPZBYCZg9kFgICAQ9kFgICAw9kFgICAQ88KwARAgEQFgAWABYADBQrAABkGAEFJGN0bDAwJENvbnRlbnRQbGFjZUhvbGRlcjEkQWdlbmN5R3JpZA9nZEX2Fbqin9n8Z+FMNF0/Le8PUUllG9WVDclscjbMPCcw',\n",
    "  '__VIEWSTATEGENERATOR': '6182BDDA',\n",
    "  '__SCROLLPOSITIONX': '0',\n",
    "  '__SCROLLPOSITIONY': '0',\n",
    "  '__EVENTVALIDATION': '/wEdAAW0d+M82KeB9jU83amVBbBJVQGbFRIKjb/OTPkkCDIIaI5MW6XMaFjzT9nUdsIknovnmPAvtsqGge98WsH6sptEtd4irRCGYF9cWkg9N731x+Ia109nzWTSlk3cE2Hdu/mZpxMaqdmQKYdbQWmi2pxV',\n",
    "  'ctl00$ContentPlaceHolder1$txtStartDate': '13 Jan 2021',\n",
    "  'ctl00$ContentPlaceHolder1$btnExport': 'Export'\n",
    "}\n",
    "\n",
    "response = requests.post('https://agencyportal.irdai.gov.in/PublicAccess/BlackListedAgent.aspx', headers=headers, cookies=cookies, data=data)\n"
   ]
  },
  {
   "cell_type": "code",
   "execution_count": 27,
   "metadata": {
    "colab": {
     "base_uri": "https://localhost:8080/",
     "height": 310
    },
    "id": "jXl_3owI3Z1z",
    "outputId": "cefe60fc-30a2-4f5f-d147-0bd5d7f9f56e"
   },
   "outputs": [
    {
     "data": {
      "text/html": [
       "<style> .textmode { } table { border-collapse: collapse; background-color:white; color:black;} table,tr,td{ border: 1px solid black;} </style><Table><tr><td colspan='7' align='center' style='font-size: 20px;' bgcolor='Bisque'>BLACKLISTED AGENTS LIST  AS ON 13 Jan 2021</td></tr></Table><div>\r\n",
       "\t<table cellspacing=\"2\" cellpadding=\"2\" rules=\"all\" border=\"2\" id=\"ctl00_ContentPlaceHolder1_AgencyGrid\" style=\"border-color:Black;border-width:2px;border-style:Solid;width:100%;\">\r\n",
       "\t\t<tr style=\"background-color:Blue;\">\r\n",
       "\t\t\t<th disabled=\"disabled\" scope=\"col\" style=\"background-color:Bisque;width:100px;\">SR.NO</th><th disabled=\"disabled\" scope=\"col\" style=\"background-color:Bisque;width:100px;\">Insurer</th><th disabled=\"disabled\" scope=\"col\" style=\"background-color:Bisque;width:100px;\">Insurer type</th><th disabled=\"disabled\" scope=\"col\" style=\"background-color:Bisque;width:100px;\">PAN</th><th disabled=\"disabled\" scope=\"col\" style=\"background-color:Bisque;width:100px;\">Agent Name</th><th disabled=\"disabled\" scope=\"col\" style=\"background-color:Bisque;width:100px;\">Agency Code</th><th disabled=\"disabled\" scope=\"col\" style=\"background-color:Bisque;width:180px;\">Blacklisted date</th>\r\n",
       "\t\t</tr><tr align=\"center\" style=\"color:Black;background-color:White;border-color:Black;border-width:1px;border-style:solid;\">\r\n",
       "\t\t\t<td>1</td><td>AEGON LIFE INSURANCE CO. LTD</td><td>LIFE</td><td>BOZPS4880J</td><td>Nirja   Singh</td><td>10022293</td><td>01-Apr-2015 12:00 AM</td>\r\n",
       "\t\t</tr><tr align=\"center\" style=\"color:Black;background-color:White;border-color:Black;border-width:1px;border-style:solid;\">\r\n",
       "\t\t\t<td>2</td><td>AEGON LIFE INSURANCE CO. LTD</td><td>LIFE</td><td>DIYPS6293E</td><td>Sourabh   Sharma</td><td>10034885</td><td>28-Apr-2016 12:00 AM</td>\r\n",
       "\t\t</tr><tr align=\"center\" style=\"color:Black;background-color:White;border-color:Black;border-width:1px;border-style:solid;\">\r\n",
       "\t\t\t<td>3</td><td>AEGON LIFE INSURANCE CO. LTD</td><td>LIFE</td><td>ADWPN3136H</td><td>RAM NARESH SAHU</td><td>10039467</td><td>30-Jun-2015 12:00 AM</td>\r\n",
       "\t\t</tr><tr align=\"center\" style=\"color:Black;background-color:White;border-color:Black;border-width:1px;border-style:solid;\">\r\n",
       "\t\t\t<td>4</td><td>AEGON LIFE INSURANCE CO. LTD</td><td>LIFE</td><td>ARFPB9811L</td><td>DURGA NILESH BHATI</td><td>10039120</td><td>01-Jul-2016 12:00 AM</td>\r\n",
       "\t\t</tr><tr align=\"center\" style=\"color:Black;background-color:White;border-color:Black;border-width:1px;border-style:solid;\">\r\n",
       "\t\t\t<td>5</td><td>AEGON LIFE INSURANCE CO. LTD</td><td>LIFE</td><td>BIWPP2667M</td><td>Kamal kishore Patel</td><td>10037559</td><td>30-Jun-2015 12:00 AM</td>\r\n",
       "\t\t</tr><tr align=\"center\" style=\"color:Black;background-color:White;border-color:Black;border-width:1px;border-style:solid;\">\r\n",
       "\t\t\t<td>6</td><td>AEGON LIFE INSURANCE CO. LTD</td><td>LIFE</td><td>BZWPB5005Q</td><td>NARAYANA   BEHERA</td><td>10043080</td><td>28-Apr-2016 12:00 AM</td>\r\n",
       "\t\t</tr><tr align=\"center\" style=\"color:Black;background-color:White;border-color:Black;border-width:1px;border-style:soli"
      ],
      "text/plain": [
       "<IPython.core.display.HTML object>"
      ]
     },
     "metadata": {
      "tags": []
     },
     "output_type": "display_data"
    }
   ],
   "source": [
    "display(IPython.display.HTML(response.text[:3000]))"
   ]
  }
 ],
 "metadata": {
  "colab": {
   "name": "irda_blacklisted.ipynb",
   "provenance": []
  },
  "kernelspec": {
   "display_name": "Python 3",
   "language": "python",
   "name": "python3"
  },
  "language_info": {
   "codemirror_mode": {
    "name": "ipython",
    "version": 3
   },
   "file_extension": ".py",
   "mimetype": "text/x-python",
   "name": "python",
   "nbconvert_exporter": "python",
   "pygments_lexer": "ipython3",
   "version": "3.7.6"
  }
 },
 "nbformat": 4,
 "nbformat_minor": 1
}
