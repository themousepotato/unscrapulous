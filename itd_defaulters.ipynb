{
  "nbformat": 4,
  "nbformat_minor": 0,
  "metadata": {
    "colab": {
      "name": "itd_defaulters.ipynb",
      "provenance": []
    },
    "kernelspec": {
      "name": "python3",
      "display_name": "Python 3"
    }
  },
  "cells": [
    {
      "cell_type": "code",
      "metadata": {
        "id": "IVuO8aB5x1xV"
      },
      "source": [
        "import requests"
      ],
      "execution_count": 1,
      "outputs": []
    },
    {
      "cell_type": "code",
      "metadata": {
        "id": "4KL_-Z3-x7c_"
      },
      "source": [
        "url = \"http://office.incometaxindia.gov.in/administration/_layouts/15/inplview.aspx?List={5A26177B-D7A0-4251-843D-5E6C0B3C3DF2}&View={D8DD9754-8FD1-4D72-9908-727646E99CA0}&ViewCount=450&IsXslView=TRUE&IsCSR=TRUE&Paged=TRUE&p_ID=\"\n",
        "row_count = 30\n",
        "def fetch_income_tax_defaulters(page=0):\n",
        "  first_item_row = page * row_count + 1\n",
        "\n",
        "  r = requests.post(url + str(first_item_row))\n",
        "  # TODO: exception/error handling\n",
        "\n",
        "  d = r.json()\n",
        "\n",
        "  return d['Row']"
      ],
      "execution_count": 13,
      "outputs": []
    },
    {
      "cell_type": "code",
      "metadata": {
        "id": "ihvj3lhV1OpV"
      },
      "source": [
        ""
      ],
      "execution_count": null,
      "outputs": []
    },
    {
      "cell_type": "code",
      "metadata": {
        "colab": {
          "base_uri": "https://localhost:8080/"
        },
        "id": "DmSJfmBfz2T5",
        "outputId": "c012c8ca-b27d-479f-9c53-8c34014a23cf"
      },
      "source": [
        "rows = fetch_income_tax_defaulters(1)\n",
        "for r in rows:\n",
        "  print(r['ID'], r['Title'])"
      ],
      "execution_count": 20,
      "outputs": [
        {
          "output_type": "stream",
          "text": [
            "32 GOPAL KRISHNAJI DHARNE [Late] Legal Heir : Atul Gopal Dharne (Son).\n",
            "33 PATHEJA BROS FORGINGS & STAMPINGS LTD. \n",
            "34 BLUE INFORMATION TECHNOLOGY LTD.\n",
            "35 LAXMINARAYAN T. THAKKAR (HUF)\n",
            "36 JUPITOR BUSINESS LIMITED\n",
            "37 HIRAK BIOTECH LTD. \n",
            "38 ICON BIO PHARMA & HEALTH CARE LIMITED [Formerly known as moon drugs limited]\n",
            "39 APPLITECH SOLUTIONS LIMITED\n",
            "40 BANYAN & BERRY ALLOYS LTD. \n",
            "41 SOMANI CEMENT CO. LTD. KHARSALIYA\n",
            "42 DIGITAL PC TECHNOLOGIES PVT.LTD. \n",
            "43 GOLDSUKH TRADE INDIA LTD. \n",
            "44 VICTOR CREDIT & CONSTRUCTION PVT. LTD.\n",
            "45 NOBLE MERCHANDISE LTD.\n",
            "46 PROTECH INTRADE PVT. LTD.\n",
            "47 ATUL JASHVANTRAI MEHTA\n",
            "48 Late Shri. G. K. DHARNE Legal Heir : Atul Gopal Dharne (Son). \n",
            "49 POONAM INDUSTRIES LTD.\n",
            "50 KUNVAR AJAY FOOD PVT. LTD.\n",
            "51 VIRAJ DYEING & PRINTING PVT. LTD.\n",
            "52 INDRAVARDAN V DARBAR\n",
            "53 JAG HEET EXPORTS PVT. LTD. \n",
            "54 JASHUBHAI JEWELLERS PVT. LTD. \n",
            "55 JHANVI AGRO FARMS PVT. LTD. \n",
            "56 KALYAN JEWELS PVT. LTD. \n",
            "57 LIVERPOOL RETAIL INDIA LIMITED. \n",
            "58 SAKSHI EXPORTS\n",
            "59 DHARNENDRA OVERSEAS LTD. \n",
            "60 PRAFUL M. AKHANI\n",
            "61 SMT BIMLA GUPTA\n"
          ],
          "name": "stdout"
        }
      ]
    }
  ]
}